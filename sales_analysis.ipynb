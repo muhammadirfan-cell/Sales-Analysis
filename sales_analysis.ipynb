{
 "cells": [
  {
   "cell_type": "markdown",
   "id": "6138d8f2",
   "metadata": {},
   "source": [
    "# 📊 Sales Data Analysis\n",
    "This notebook covers data cleaning, analysis, and visualization."
   ]
  },
  {
   "cell_type": "code",
   "execution_count": null,
   "id": "68fd3427",
   "metadata": {},
   "outputs": [],
   "source": [
    "import pandas as pd\n",
    "import matplotlib.pyplot as plt\n",
    "import seaborn as sns\n",
    "\n",
    "# Load dataset\n",
    "df = pd.read_csv('sales_data.csv')\n",
    "df.head()"
   ]
  },
  {
   "cell_type": "markdown",
   "id": "7f4f6bc3",
   "metadata": {},
   "source": [
    "## 🔎 Data Summary"
   ]
  },
  {
   "cell_type": "code",
   "execution_count": null,
   "id": "98706faf",
   "metadata": {},
   "outputs": [],
   "source": [
    "df.info()\n",
    "df.describe()"
   ]
  },
  {
   "cell_type": "markdown",
   "id": "56b1a939",
   "metadata": {},
   "source": [
    "## 📈 Sales Over Time"
   ]
  },
  {
   "cell_type": "code",
   "execution_count": null,
   "id": "eccf50ec",
   "metadata": {},
   "outputs": [],
   "source": [
    "df['Date'] = pd.to_datetime(df['Date'])\n",
    "monthly_sales = df.groupby(df['Date'].dt.to_period('M')).sum(numeric_only=True)\n",
    "\n",
    "monthly_sales['Sales'].plot(kind='line', figsize=(10,5), title='Monthly Sales')\n",
    "plt.show()"
   ]
  },
  {
   "cell_type": "markdown",
   "id": "06307402",
   "metadata": {},
   "source": [
    "## 💰 Sales by Region"
   ]
  },
  {
   "cell_type": "code",
   "execution_count": null,
   "id": "d47cbb05",
   "metadata": {},
   "outputs": [],
   "source": [
    "region_sales = df.groupby('Region')['Sales'].sum().sort_values()\n",
    "region_sales.plot(kind='barh', title='Sales by Region', figsize=(8,5))\n",
    "plt.show()"
   ]
  },
  {
   "cell_type": "markdown",
   "id": "d7d46507",
   "metadata": {},
   "source": [
    "## 🏆 Top Products"
   ]
  },
  {
   "cell_type": "code",
   "execution_count": null,
   "id": "55cbf603",
   "metadata": {},
   "outputs": [],
   "source": [
    "top_products = df.groupby('Product')['Sales'].sum().sort_values(ascending=False)\n",
    "top_products.plot(kind='bar', title='Top Selling Products', figsize=(8,5))\n",
    "plt.show()"
   ]
  },
  {
   "cell_type": "markdown",
   "id": "726e31c0",
   "metadata": {},
   "source": [
    "## 📊 Profit Distribution"
   ]
  },
  {
   "cell_type": "code",
   "execution_count": null,
   "id": "2438df9e",
   "metadata": {},
   "outputs": [],
   "source": [
    "sns.histplot(df['Profit'], bins=20, kde=True)\n",
    "plt.title('Profit Distribution')\n",
    "plt.show()"
   ]
  }
 ],
 "metadata": {},
 "nbformat": 4,
 "nbformat_minor": 5
}
